{
 "cells": [
  {
   "cell_type": "code",
   "execution_count": 0,
   "metadata": {
    "application/vnd.databricks.v1+cell": {
     "cellMetadata": {},
     "inputWidgets": {},
     "nuid": "4a56c4c5-1578-4d5a-943c-efac3b883de3",
     "showTitle": false,
     "title": ""
    }
   },
   "outputs": [],
   "source": [
    "%python\n",
    "# Lista Diretórios\n",
    "dbutils.fs.ls('/mnt')"
   ]
  },
  {
   "cell_type": "code",
   "execution_count": 0,
   "metadata": {
    "application/vnd.databricks.v1+cell": {
     "cellMetadata": {
      "byteLimit": 2048000,
      "rowLimit": 10000
     },
     "inputWidgets": {},
     "nuid": "43510e0d-f974-45ce-a9e4-9044a3645d7d",
     "showTitle": false,
     "title": ""
    }
   },
   "outputs": [],
   "source": [
    "%python\n",
    "#Cria Diretório\n",
    "dbutils.fs.mkdirs('/mnt/dados')"
   ]
  },
  {
   "cell_type": "code",
   "execution_count": 0,
   "metadata": {
    "application/vnd.databricks.v1+cell": {
     "cellMetadata": {
      "byteLimit": 2048000,
      "rowLimit": 10000
     },
     "inputWidgets": {},
     "nuid": "1e0c0d07-f350-4df6-b4a9-d453d6d4f217",
     "showTitle": false,
     "title": ""
    }
   },
   "outputs": [],
   "source": [
    "%python\n",
    "# Lista Diretórios\n",
    "dbutils.fs.ls('/mnt')"
   ]
  },
  {
   "cell_type": "code",
   "execution_count": 0,
   "metadata": {
    "application/vnd.databricks.v1+cell": {
     "cellMetadata": {
      "byteLimit": 2048000,
      "rowLimit": 10000
     },
     "inputWidgets": {},
     "nuid": "4805c71f-97a8-417b-adbd-b501220759a5",
     "showTitle": false,
     "title": ""
    }
   },
   "outputs": [],
   "source": [
    "%python\n",
    "# desmontando um diretório\n",
    "#dbutils.fs.unmount(\"/mnt/<mount-name>\")"
   ]
  },
  {
   "cell_type": "code",
   "execution_count": 0,
   "metadata": {
    "application/vnd.databricks.v1+cell": {
     "cellMetadata": {},
     "inputWidgets": {},
     "nuid": "eb7187e3-bc9f-49fa-b600-e0cf6c323166",
     "showTitle": false,
     "title": ""
    }
   },
   "outputs": [],
   "source": [
    "%python\n",
    "\n",
    "# código em python \n",
    "\n",
    "# configs = {\"fs.azure.account.auth.type\": \"OAuth\",\n",
    "#           \"fs.azure.account.oauth.provider.type\": \"org.apache.hadoop.fs.azurebfs.oauth2.ClientCredsTokenProvider\",\n",
    "#           \"fs.azure.account.oauth2.client.id\": \"<application-id>\",\n",
    "#           \"fs.azure.account.oauth2.client.secret\": \"<secret-id>\",\n",
    "#           \"fs.azure.account.oauth2.client.endpoint\": \"https://login.microsoftonline.com/<directory-id>/oauth2/token\"}\n",
    "\n",
    "# dbutils.fs.mount(\n",
    "#   source = \"abfss://<container-name>@<storage-account-name>.dfs.core.windows.net/\",\n",
    "#   mount_point = \"/mnt/<mount-name>\",\n",
    "#   extra_configs = configs)\n"
   ]
  },
  {
   "cell_type": "code",
   "execution_count": 0,
   "metadata": {
    "application/vnd.databricks.v1+cell": {
     "cellMetadata": {
      "byteLimit": 2048000,
      "rowLimit": 10000
     },
     "inputWidgets": {},
     "nuid": "72ddd776-16ca-443a-bcc0-fb63e335d9a3",
     "showTitle": false,
     "title": ""
    }
   },
   "outputs": [],
   "source": [
    "// val configs = Map(\n",
    "//   \"fs.azure.account.auth.type\" -> \"OAuth\",\n",
    "//   \"fs.azure.account.oauth.provider.type\" -> \"org.apache.hadoop.fs.azurebfs.oauth2.ClientCredsTokenProvider\",\n",
    "//   \"fs.azure.account.oauth2.client.id\" -> \"<application-id>\",\n",
    "//   \"fs.azure.account.oauth2.client.secret\" -> \"<secret-id>\",\n",
    "//   \"fs.azure.account.oauth2.client.endpoint\" -> \"https://login.microsoftonline.com/<directory-id>/oauth2/token\")\n",
    "\n",
    "\n",
    "// dbutils.fs.mount(\n",
    "//   source = \"abfss://<container-name>@<storage-account-name>.dfs.core.windows.net/\",\n",
    "//   mountPoint = \"/mnt/dados\",\n",
    "//   extraConfigs = configs)"
   ]
  },
  {
   "cell_type": "code",
   "execution_count": 0,
   "metadata": {
    "application/vnd.databricks.v1+cell": {
     "cellMetadata": {
      "byteLimit": 2048000,
      "rowLimit": 10000
     },
     "inputWidgets": {},
     "nuid": "9300ea46-c12d-478b-8612-52b60fa03dd2",
     "showTitle": false,
     "title": ""
    }
   },
   "outputs": [],
   "source": [
    "%python\n",
    "dbutils.fs.ls(\"/mnt/dados\")"
   ]
  },
  {
   "cell_type": "code",
   "execution_count": 0,
   "metadata": {
    "application/vnd.databricks.v1+cell": {
     "cellMetadata": {
      "byteLimit": 2048000,
      "rowLimit": 10000
     },
     "inputWidgets": {},
     "nuid": "a305947d-e3ac-4d04-a0d0-6c0dd1bfd382",
     "showTitle": false,
     "title": ""
    }
   },
   "outputs": [],
   "source": [
    "dbutils.fs.ls(\"/mnt/dados/inbound\")"
   ]
  },
  {
   "cell_type": "code",
   "execution_count": 0,
   "metadata": {
    "application/vnd.databricks.v1+cell": {
     "cellMetadata": {
      "byteLimit": 2048000,
      "rowLimit": 10000
     },
     "inputWidgets": {},
     "nuid": "7b3e72c2-70cf-44b7-b19b-bb3f284add0e",
     "showTitle": false,
     "title": ""
    }
   },
   "outputs": [],
   "source": [
    "%python\n",
    "dbutils.fs.ls(\"/mnt/dados/inbound\")"
   ]
  },
  {
   "cell_type": "code",
   "execution_count": 0,
   "metadata": {
    "application/vnd.databricks.v1+cell": {
     "cellMetadata": {
      "byteLimit": 2048000,
      "rowLimit": 10000
     },
     "inputWidgets": {},
     "nuid": "a7a195e9-615f-4602-900a-a77fcaf4eaa3",
     "showTitle": false,
     "title": ""
    }
   },
   "outputs": [],
   "source": [
    "val path=\"dbfs:/mnt/dados/inbound/source-4-ds-train.json\"\n",
    "val df = spark.read.text(path)"
   ]
  },
  {
   "cell_type": "code",
   "execution_count": 0,
   "metadata": {
    "application/vnd.databricks.v1+cell": {
     "cellMetadata": {
      "byteLimit": 2048000,
      "rowLimit": 10000
     },
     "inputWidgets": {},
     "nuid": "c60bfab8-6a04-4cda-b353-17f9b03edd63",
     "showTitle": false,
     "title": ""
    }
   },
   "outputs": [],
   "source": [
    "display (df)"
   ]
  },
  {
   "cell_type": "code",
   "execution_count": 0,
   "metadata": {
    "application/vnd.databricks.v1+cell": {
     "cellMetadata": {
      "byteLimit": 2048000,
      "rowLimit": 10000
     },
     "inputWidgets": {},
     "nuid": "3dce8b5f-59d4-4f7d-97fc-c7b830f06dad",
     "showTitle": false,
     "title": ""
    }
   },
   "outputs": [],
   "source": [
    "import org.apache.spark.sql.functions.get_json_object"
   ]
  },
  {
   "cell_type": "code",
   "execution_count": 0,
   "metadata": {
    "application/vnd.databricks.v1+cell": {
     "cellMetadata": {
      "byteLimit": 2048000,
      "rowLimit": 10000
     },
     "inputWidgets": {},
     "nuid": "5d1f1f5c-6a43-4855-9d31-b4b9ce826212",
     "showTitle": false,
     "title": ""
    }
   },
   "outputs": [],
   "source": [
    "df.select(get_json_object($\"value\",\"$.id\") as \"id\").show()\n"
   ]
  },
  {
   "cell_type": "code",
   "execution_count": 0,
   "metadata": {
    "application/vnd.databricks.v1+cell": {
     "cellMetadata": {
      "byteLimit": 2048000,
      "rowLimit": 10000
     },
     "inputWidgets": {},
     "nuid": "8b9feb97-51c9-4ae8-aa84-a3ab24e82e21",
     "showTitle": false,
     "title": ""
    }
   },
   "outputs": [],
   "source": [
    "val df_bronze = df.withColumn(\"id\",get_json_object($\"value\",\"$.id\"))\n",
    "\n",
    "display(df_bronze)"
   ]
  },
  {
   "cell_type": "code",
   "execution_count": 0,
   "metadata": {
    "application/vnd.databricks.v1+cell": {
     "cellMetadata": {
      "byteLimit": 2048000,
      "rowLimit": 10000
     },
     "inputWidgets": {},
     "nuid": "957b61f1-4bbe-4460-8384-0e102f0f1c8a",
     "showTitle": false,
     "title": ""
    }
   },
   "outputs": [],
   "source": [
    "import org.apache.spark.sql.functions.to_timestamp"
   ]
  },
  {
   "cell_type": "code",
   "execution_count": 0,
   "metadata": {
    "application/vnd.databricks.v1+cell": {
     "cellMetadata": {
      "byteLimit": 2048000,
      "rowLimit": 10000
     },
     "inputWidgets": {},
     "nuid": "ec5af18d-e69d-4d18-8f3e-819850ea5a44",
     "showTitle": false,
     "title": ""
    }
   },
   "outputs": [],
   "source": [
    "val df_bronze = df.withColumn(\"id\",get_json_object($\"value\",\"$.id\"))\n",
    "                  .withColumn(\"createdAt\", to_timestamp(get_json_object($\"value\",\"$.createdAt\")))\n",
    "                  .withColumn(\"updatedAt\", to_timestamp(get_json_object($\"value\",\"$.updatedAt\")))\n",
    "\n",
    "display(df_bronze)"
   ]
  },
  {
   "cell_type": "code",
   "execution_count": 0,
   "metadata": {
    "application/vnd.databricks.v1+cell": {
     "cellMetadata": {
      "byteLimit": 2048000,
      "rowLimit": 10000
     },
     "inputWidgets": {},
     "nuid": "5f1814b5-dfd0-4b5f-9bd5-aaf60e3978c7",
     "showTitle": false,
     "title": ""
    }
   },
   "outputs": [],
   "source": [
    "val dbfs_path = \"dbfs:/mnt/dados/bronze/zap_imoveis\"\n",
    "df_bronze.write.format(\"delta\").mode(SaveMode.Overwrite).save(dbfs_path)"
   ]
  }
 ],
 "metadata": {
  "application/vnd.databricks.v1+notebook": {
   "dashboards": [],
   "language": "scala",
   "notebookMetadata": {
    "pythonIndentUnit": 4
   },
   "notebookName": "curso7-bronze",
   "notebookOrigID": 3742173959470436,
   "widgets": {}
  }
 },
 "nbformat": 4,
 "nbformat_minor": 0
}
