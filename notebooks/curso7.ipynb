{
 "cells": [
  {
   "cell_type": "code",
   "execution_count": 0,
   "metadata": {
    "application/vnd.databricks.v1+cell": {
     "cellMetadata": {},
     "inputWidgets": {},
     "nuid": "4a56c4c5-1578-4d5a-943c-efac3b883de3",
     "showTitle": false,
     "title": ""
    }
   },
   "outputs": [],
   "source": [
    "teste\n",
    "teste"
   ]
  }
 ],
 "metadata": {
  "application/vnd.databricks.v1+notebook": {
   "dashboards": [],
   "language": "scala",
   "notebookMetadata": {
    "pythonIndentUnit": 4
   },
   "notebookName": "curso7",
   "notebookOrigID": 3742173959470436,
   "widgets": {}
  }
 },
 "nbformat": 4,
 "nbformat_minor": 0
}
